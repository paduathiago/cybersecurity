{
 "cells": [
  {
   "cell_type": "code",
   "execution_count": 89,
   "id": "fe98baa8",
   "metadata": {
    "execution": {
     "iopub.execute_input": "2021-11-11T18:03:30.156530Z",
     "iopub.status.busy": "2021-11-11T18:03:30.155221Z",
     "iopub.status.idle": "2021-11-11T18:03:31.716440Z",
     "shell.execute_reply": "2021-11-11T18:03:31.715642Z",
     "shell.execute_reply.started": "2021-11-09T12:03:56.185526Z"
    },
    "papermill": {
     "duration": 1.579834,
     "end_time": "2021-11-11T18:03:31.716606",
     "exception": false,
     "start_time": "2021-11-11T18:03:30.136772",
     "status": "completed"
    },
    "tags": []
   },
   "outputs": [],
   "source": [
    "# Primeiramente vamos importar as bibliotecas usadas neste estudo de caso, como segue.\n",
    "import numpy as np # biblioteca com recursos para álgebra linear\n",
    "import pandas as pd # processamento dos dados, carga de arquivo CSV e de I/O\n",
    "import json\n",
    "from sklearn import *\n",
    "import sklearn.model_selection as model_selection\n",
    "from sklearn.linear_model import LogisticRegression\n",
    "from sklearn.tree import DecisionTreeClassifier\n",
    "from sklearn.metrics import accuracy_score\n",
    "\n",
    "from sklearn import preprocessing\n",
    "from sklearn.model_selection import train_test_split\n",
    "from sklearn.model_selection import cross_validate\n"
   ]
  },
  {
   "cell_type": "code",
   "execution_count": 102,
   "id": "4b1db34f",
   "metadata": {
    "execution": {
     "iopub.execute_input": "2021-11-11T18:03:31.846405Z",
     "iopub.status.busy": "2021-11-11T18:03:31.845410Z",
     "iopub.status.idle": "2021-11-11T18:03:32.271457Z",
     "shell.execute_reply": "2021-11-11T18:03:32.271930Z",
     "shell.execute_reply.started": "2021-11-09T12:03:56.245342Z"
    },
    "papermill": {
     "duration": 0.445273,
     "end_time": "2021-11-11T18:03:32.272149",
     "exception": false,
     "start_time": "2021-11-11T18:03:31.826876",
     "status": "completed"
    },
    "tags": []
   },
   "outputs": [
    {
     "data": {
      "text/html": [
       "<div>\n",
       "<style scoped>\n",
       "    .dataframe tbody tr th:only-of-type {\n",
       "        vertical-align: middle;\n",
       "    }\n",
       "\n",
       "    .dataframe tbody tr th {\n",
       "        vertical-align: top;\n",
       "    }\n",
       "\n",
       "    .dataframe thead th {\n",
       "        text-align: right;\n",
       "    }\n",
       "</style>\n",
       "<table border=\"1\" class=\"dataframe\">\n",
       "  <thead>\n",
       "    <tr style=\"text-align: right;\">\n",
       "      <th></th>\n",
       "      <th>having_IP_Address</th>\n",
       "      <th>URL_Length</th>\n",
       "      <th>Shortining_Service</th>\n",
       "      <th>having_At_Symbol</th>\n",
       "      <th>double_slash_redirecting</th>\n",
       "      <th>Prefix_Suffix</th>\n",
       "      <th>having_Sub_Domain</th>\n",
       "      <th>SSLfinal_State</th>\n",
       "      <th>Domain_registeration_length</th>\n",
       "      <th>Favicon</th>\n",
       "      <th>...</th>\n",
       "      <th>popUpWidnow</th>\n",
       "      <th>Iframe</th>\n",
       "      <th>age_of_domain</th>\n",
       "      <th>DNSRecord</th>\n",
       "      <th>web_traffic</th>\n",
       "      <th>Page_Rank</th>\n",
       "      <th>Google_Index</th>\n",
       "      <th>Links_pointing_to_page</th>\n",
       "      <th>Statistical_report</th>\n",
       "      <th>Result</th>\n",
       "    </tr>\n",
       "  </thead>\n",
       "  <tbody>\n",
       "    <tr>\n",
       "      <th>0</th>\n",
       "      <td>-1</td>\n",
       "      <td>1</td>\n",
       "      <td>1</td>\n",
       "      <td>1</td>\n",
       "      <td>-1</td>\n",
       "      <td>-1</td>\n",
       "      <td>-1</td>\n",
       "      <td>-1</td>\n",
       "      <td>-1</td>\n",
       "      <td>1</td>\n",
       "      <td>...</td>\n",
       "      <td>1</td>\n",
       "      <td>1</td>\n",
       "      <td>-1</td>\n",
       "      <td>-1</td>\n",
       "      <td>-1</td>\n",
       "      <td>-1</td>\n",
       "      <td>1</td>\n",
       "      <td>1</td>\n",
       "      <td>-1</td>\n",
       "      <td>-1</td>\n",
       "    </tr>\n",
       "    <tr>\n",
       "      <th>1</th>\n",
       "      <td>1</td>\n",
       "      <td>1</td>\n",
       "      <td>1</td>\n",
       "      <td>1</td>\n",
       "      <td>1</td>\n",
       "      <td>-1</td>\n",
       "      <td>0</td>\n",
       "      <td>1</td>\n",
       "      <td>-1</td>\n",
       "      <td>1</td>\n",
       "      <td>...</td>\n",
       "      <td>1</td>\n",
       "      <td>1</td>\n",
       "      <td>-1</td>\n",
       "      <td>-1</td>\n",
       "      <td>0</td>\n",
       "      <td>-1</td>\n",
       "      <td>1</td>\n",
       "      <td>1</td>\n",
       "      <td>1</td>\n",
       "      <td>-1</td>\n",
       "    </tr>\n",
       "    <tr>\n",
       "      <th>2</th>\n",
       "      <td>1</td>\n",
       "      <td>0</td>\n",
       "      <td>1</td>\n",
       "      <td>1</td>\n",
       "      <td>1</td>\n",
       "      <td>-1</td>\n",
       "      <td>-1</td>\n",
       "      <td>-1</td>\n",
       "      <td>-1</td>\n",
       "      <td>1</td>\n",
       "      <td>...</td>\n",
       "      <td>1</td>\n",
       "      <td>1</td>\n",
       "      <td>1</td>\n",
       "      <td>-1</td>\n",
       "      <td>1</td>\n",
       "      <td>-1</td>\n",
       "      <td>1</td>\n",
       "      <td>0</td>\n",
       "      <td>-1</td>\n",
       "      <td>-1</td>\n",
       "    </tr>\n",
       "    <tr>\n",
       "      <th>3</th>\n",
       "      <td>1</td>\n",
       "      <td>0</td>\n",
       "      <td>1</td>\n",
       "      <td>1</td>\n",
       "      <td>1</td>\n",
       "      <td>-1</td>\n",
       "      <td>-1</td>\n",
       "      <td>-1</td>\n",
       "      <td>1</td>\n",
       "      <td>1</td>\n",
       "      <td>...</td>\n",
       "      <td>1</td>\n",
       "      <td>1</td>\n",
       "      <td>-1</td>\n",
       "      <td>-1</td>\n",
       "      <td>1</td>\n",
       "      <td>-1</td>\n",
       "      <td>1</td>\n",
       "      <td>-1</td>\n",
       "      <td>1</td>\n",
       "      <td>-1</td>\n",
       "    </tr>\n",
       "    <tr>\n",
       "      <th>4</th>\n",
       "      <td>1</td>\n",
       "      <td>0</td>\n",
       "      <td>-1</td>\n",
       "      <td>1</td>\n",
       "      <td>1</td>\n",
       "      <td>-1</td>\n",
       "      <td>1</td>\n",
       "      <td>1</td>\n",
       "      <td>-1</td>\n",
       "      <td>1</td>\n",
       "      <td>...</td>\n",
       "      <td>-1</td>\n",
       "      <td>1</td>\n",
       "      <td>-1</td>\n",
       "      <td>-1</td>\n",
       "      <td>0</td>\n",
       "      <td>-1</td>\n",
       "      <td>1</td>\n",
       "      <td>1</td>\n",
       "      <td>1</td>\n",
       "      <td>1</td>\n",
       "    </tr>\n",
       "  </tbody>\n",
       "</table>\n",
       "<p>5 rows × 31 columns</p>\n",
       "</div>"
      ],
      "text/plain": [
       "   having_IP_Address  URL_Length  Shortining_Service  having_At_Symbol  \\\n",
       "0                 -1           1                   1                 1   \n",
       "1                  1           1                   1                 1   \n",
       "2                  1           0                   1                 1   \n",
       "3                  1           0                   1                 1   \n",
       "4                  1           0                  -1                 1   \n",
       "\n",
       "   double_slash_redirecting  Prefix_Suffix  having_Sub_Domain  SSLfinal_State  \\\n",
       "0                        -1             -1                 -1              -1   \n",
       "1                         1             -1                  0               1   \n",
       "2                         1             -1                 -1              -1   \n",
       "3                         1             -1                 -1              -1   \n",
       "4                         1             -1                  1               1   \n",
       "\n",
       "   Domain_registeration_length  Favicon  ...  popUpWidnow  Iframe  \\\n",
       "0                           -1        1  ...            1       1   \n",
       "1                           -1        1  ...            1       1   \n",
       "2                           -1        1  ...            1       1   \n",
       "3                            1        1  ...            1       1   \n",
       "4                           -1        1  ...           -1       1   \n",
       "\n",
       "   age_of_domain  DNSRecord  web_traffic  Page_Rank  Google_Index  \\\n",
       "0             -1         -1           -1         -1             1   \n",
       "1             -1         -1            0         -1             1   \n",
       "2              1         -1            1         -1             1   \n",
       "3             -1         -1            1         -1             1   \n",
       "4             -1         -1            0         -1             1   \n",
       "\n",
       "   Links_pointing_to_page  Statistical_report  Result  \n",
       "0                       1                  -1      -1  \n",
       "1                       1                   1      -1  \n",
       "2                       0                  -1      -1  \n",
       "3                      -1                   1      -1  \n",
       "4                       1                   1       1  \n",
       "\n",
       "[5 rows x 31 columns]"
      ]
     },
     "execution_count": 102,
     "metadata": {},
     "output_type": "execute_result"
    }
   ],
   "source": [
    "from scipy.io import arff\n",
    "dataset = \"Training Dataset.arff\"\n",
    "\n",
    "# Vamos agora carregar o dataset que iremos utilizar para treinar os modelos de classificação.\n",
    "training_data = arff.loadarff(f'{dataset}')\n",
    "\n",
    "df = pd.DataFrame(training_data[0])\n",
    "df = df.replace({b'1': 1, b'0': 0, b'-1': -1})\n",
    "df.head() # para ver os dados na variável."
   ]
  },
  {
   "cell_type": "code",
   "execution_count": 103,
   "id": "1f8d8445",
   "metadata": {
    "execution": {
     "iopub.execute_input": "2021-11-11T18:03:32.303767Z",
     "iopub.status.busy": "2021-11-11T18:03:32.303125Z",
     "iopub.status.idle": "2021-11-11T18:03:32.310129Z",
     "shell.execute_reply": "2021-11-11T18:03:32.309515Z",
     "shell.execute_reply.started": "2021-11-09T12:03:56.689756Z"
    },
    "papermill": {
     "duration": 0.023875,
     "end_time": "2021-11-11T18:03:32.310266",
     "exception": false,
     "start_time": "2021-11-11T18:03:32.286391",
     "status": "completed"
    },
    "tags": []
   },
   "outputs": [
    {
     "name": "stdout",
     "output_type": "stream",
     "text": [
      "(11055, 30)\n",
      "(11055,)\n"
     ]
    }
   ],
   "source": [
    "# Identificando as entradas (todos os atributos, exceto o último) e as saídas (o último atributo):\n",
    "inputs = df.iloc[:, :-1] # todas as colunas, exceto a última\n",
    "outputs = df.iloc[:, -1] # a última coluna\n",
    "\n",
    "print(inputs.shape)\n",
    "print(outputs.shape)"
   ]
  },
  {
   "cell_type": "code",
   "execution_count": 104,
   "id": "61e21809",
   "metadata": {
    "execution": {
     "iopub.execute_input": "2021-11-11T18:03:32.512577Z",
     "iopub.status.busy": "2021-11-11T18:03:32.511615Z",
     "iopub.status.idle": "2021-11-11T18:03:32.523878Z",
     "shell.execute_reply": "2021-11-11T18:03:32.523031Z",
     "shell.execute_reply.started": "2021-11-09T12:03:56.74747Z"
    },
    "papermill": {
     "duration": 0.029338,
     "end_time": "2021-11-11T18:03:32.524102",
     "exception": false,
     "start_time": "2021-11-11T18:03:32.494764",
     "status": "completed"
    },
    "tags": []
   },
   "outputs": [
    {
     "name": "stdout",
     "output_type": "stream",
     "text": [
      "(8844, 30)\n",
      "(2211, 30)\n",
      "(8844,)\n",
      "(2211,)\n"
     ]
    }
   ],
   "source": [
    "# dividing the dataset into training and testing:\n",
    "training_inputs, testing_inputs, training_outputs, testing_outputs = model_selection.train_test_split(inputs, outputs, test_size=0.2)\n",
    "\n",
    "print(training_inputs.shape)\n",
    "print(testing_inputs.shape)\n",
    "print(training_outputs.shape)\n",
    "print(testing_outputs.shape)"
   ]
  },
  {
   "cell_type": "code",
   "execution_count": 105,
   "id": "1fb68f47",
   "metadata": {
    "execution": {
     "iopub.execute_input": "2021-11-11T18:03:32.557312Z",
     "iopub.status.busy": "2021-11-11T18:03:32.556357Z",
     "iopub.status.idle": "2021-11-11T18:03:32.560012Z",
     "shell.execute_reply": "2021-11-11T18:03:32.560489Z",
     "shell.execute_reply.started": "2021-11-09T12:03:56.763299Z"
    },
    "papermill": {
     "duration": 0.02144,
     "end_time": "2021-11-11T18:03:32.560657",
     "exception": false,
     "start_time": "2021-11-11T18:03:32.539217",
     "status": "completed"
    },
    "tags": []
   },
   "outputs": [],
   "source": [
    "# Preparando o classificador Scikit-learn do tipo regressão logística.\n",
    "classifier1 = LogisticRegression()"
   ]
  },
  {
   "cell_type": "code",
   "execution_count": 106,
   "id": "80b40e4b",
   "metadata": {
    "execution": {
     "iopub.execute_input": "2021-11-11T18:03:32.592976Z",
     "iopub.status.busy": "2021-11-11T18:03:32.592027Z",
     "iopub.status.idle": "2021-11-11T18:03:32.595876Z",
     "shell.execute_reply": "2021-11-11T18:03:32.596399Z",
     "shell.execute_reply.started": "2021-11-09T12:03:56.770968Z"
    },
    "papermill": {
     "duration": 0.021442,
     "end_time": "2021-11-11T18:03:32.596562",
     "exception": false,
     "start_time": "2021-11-11T18:03:32.575120",
     "status": "completed"
    },
    "tags": []
   },
   "outputs": [],
   "source": [
    "# Preparando o classificador Scikit-learn do tipo árvore de decisão. \n",
    "classifier2 = DecisionTreeClassifier()"
   ]
  },
  {
   "cell_type": "code",
   "execution_count": 107,
   "id": "7d0ca7e9",
   "metadata": {},
   "outputs": [],
   "source": [
    "from sklearn.ensemble import RandomForestClassifier\n",
    "classifier3 = RandomForestClassifier()"
   ]
  },
  {
   "cell_type": "code",
   "execution_count": 108,
   "id": "410d7fff",
   "metadata": {
    "execution": {
     "iopub.execute_input": "2021-11-11T18:03:32.629262Z",
     "iopub.status.busy": "2021-11-11T18:03:32.628333Z",
     "iopub.status.idle": "2021-11-11T18:03:32.810675Z",
     "shell.execute_reply": "2021-11-11T18:03:32.811525Z",
     "shell.execute_reply.started": "2021-11-09T12:03:56.783105Z"
    },
    "papermill": {
     "duration": 0.200747,
     "end_time": "2021-11-11T18:03:32.811819",
     "exception": false,
     "start_time": "2021-11-11T18:03:32.611072",
     "status": "completed"
    },
    "tags": []
   },
   "outputs": [
    {
     "data": {
      "text/html": [
       "<style>#sk-container-id-8 {color: black;background-color: white;}#sk-container-id-8 pre{padding: 0;}#sk-container-id-8 div.sk-toggleable {background-color: white;}#sk-container-id-8 label.sk-toggleable__label {cursor: pointer;display: block;width: 100%;margin-bottom: 0;padding: 0.3em;box-sizing: border-box;text-align: center;}#sk-container-id-8 label.sk-toggleable__label-arrow:before {content: \"▸\";float: left;margin-right: 0.25em;color: #696969;}#sk-container-id-8 label.sk-toggleable__label-arrow:hover:before {color: black;}#sk-container-id-8 div.sk-estimator:hover label.sk-toggleable__label-arrow:before {color: black;}#sk-container-id-8 div.sk-toggleable__content {max-height: 0;max-width: 0;overflow: hidden;text-align: left;background-color: #f0f8ff;}#sk-container-id-8 div.sk-toggleable__content pre {margin: 0.2em;color: black;border-radius: 0.25em;background-color: #f0f8ff;}#sk-container-id-8 input.sk-toggleable__control:checked~div.sk-toggleable__content {max-height: 200px;max-width: 100%;overflow: auto;}#sk-container-id-8 input.sk-toggleable__control:checked~label.sk-toggleable__label-arrow:before {content: \"▾\";}#sk-container-id-8 div.sk-estimator input.sk-toggleable__control:checked~label.sk-toggleable__label {background-color: #d4ebff;}#sk-container-id-8 div.sk-label input.sk-toggleable__control:checked~label.sk-toggleable__label {background-color: #d4ebff;}#sk-container-id-8 input.sk-hidden--visually {border: 0;clip: rect(1px 1px 1px 1px);clip: rect(1px, 1px, 1px, 1px);height: 1px;margin: -1px;overflow: hidden;padding: 0;position: absolute;width: 1px;}#sk-container-id-8 div.sk-estimator {font-family: monospace;background-color: #f0f8ff;border: 1px dotted black;border-radius: 0.25em;box-sizing: border-box;margin-bottom: 0.5em;}#sk-container-id-8 div.sk-estimator:hover {background-color: #d4ebff;}#sk-container-id-8 div.sk-parallel-item::after {content: \"\";width: 100%;border-bottom: 1px solid gray;flex-grow: 1;}#sk-container-id-8 div.sk-label:hover label.sk-toggleable__label {background-color: #d4ebff;}#sk-container-id-8 div.sk-serial::before {content: \"\";position: absolute;border-left: 1px solid gray;box-sizing: border-box;top: 0;bottom: 0;left: 50%;z-index: 0;}#sk-container-id-8 div.sk-serial {display: flex;flex-direction: column;align-items: center;background-color: white;padding-right: 0.2em;padding-left: 0.2em;position: relative;}#sk-container-id-8 div.sk-item {position: relative;z-index: 1;}#sk-container-id-8 div.sk-parallel {display: flex;align-items: stretch;justify-content: center;background-color: white;position: relative;}#sk-container-id-8 div.sk-item::before, #sk-container-id-8 div.sk-parallel-item::before {content: \"\";position: absolute;border-left: 1px solid gray;box-sizing: border-box;top: 0;bottom: 0;left: 50%;z-index: -1;}#sk-container-id-8 div.sk-parallel-item {display: flex;flex-direction: column;z-index: 1;position: relative;background-color: white;}#sk-container-id-8 div.sk-parallel-item:first-child::after {align-self: flex-end;width: 50%;}#sk-container-id-8 div.sk-parallel-item:last-child::after {align-self: flex-start;width: 50%;}#sk-container-id-8 div.sk-parallel-item:only-child::after {width: 0;}#sk-container-id-8 div.sk-dashed-wrapped {border: 1px dashed gray;margin: 0 0.4em 0.5em 0.4em;box-sizing: border-box;padding-bottom: 0.4em;background-color: white;}#sk-container-id-8 div.sk-label label {font-family: monospace;font-weight: bold;display: inline-block;line-height: 1.2em;}#sk-container-id-8 div.sk-label-container {text-align: center;}#sk-container-id-8 div.sk-container {/* jupyter's `normalize.less` sets `[hidden] { display: none; }` but bootstrap.min.css set `[hidden] { display: none !important; }` so we also need the `!important` here to be able to override the default hidden behavior on the sphinx rendered scikit-learn.org. See: https://github.com/scikit-learn/scikit-learn/issues/21755 */display: inline-block !important;position: relative;}#sk-container-id-8 div.sk-text-repr-fallback {display: none;}</style><div id=\"sk-container-id-8\" class=\"sk-top-container\"><div class=\"sk-text-repr-fallback\"><pre>RandomForestClassifier()</pre><b>In a Jupyter environment, please rerun this cell to show the HTML representation or trust the notebook. <br />On GitHub, the HTML representation is unable to render, please try loading this page with nbviewer.org.</b></div><div class=\"sk-container\" hidden><div class=\"sk-item\"><div class=\"sk-estimator sk-toggleable\"><input class=\"sk-toggleable__control sk-hidden--visually\" id=\"sk-estimator-id-8\" type=\"checkbox\" checked><label for=\"sk-estimator-id-8\" class=\"sk-toggleable__label sk-toggleable__label-arrow\">RandomForestClassifier</label><div class=\"sk-toggleable__content\"><pre>RandomForestClassifier()</pre></div></div></div></div></div>"
      ],
      "text/plain": [
       "RandomForestClassifier()"
      ]
     },
     "execution_count": 108,
     "metadata": {},
     "output_type": "execute_result"
    }
   ],
   "source": [
    "# Treinando os classificadores.\n",
    "classifier1.fit(training_inputs, training_outputs)\n",
    "classifier2.fit(training_inputs, training_outputs)\n",
    "classifier3.fit(training_inputs, training_outputs)"
   ]
  },
  {
   "cell_type": "code",
   "execution_count": 109,
   "id": "80602b50",
   "metadata": {
    "execution": {
     "iopub.execute_input": "2021-11-11T18:03:32.873393Z",
     "iopub.status.busy": "2021-11-11T18:03:32.872318Z",
     "iopub.status.idle": "2021-11-11T18:03:32.879184Z",
     "shell.execute_reply": "2021-11-11T18:03:32.879978Z",
     "shell.execute_reply.started": "2021-11-09T12:03:56.967304Z"
    },
    "papermill": {
     "duration": 0.041246,
     "end_time": "2021-11-11T18:03:32.880244",
     "exception": false,
     "start_time": "2021-11-11T18:03:32.838998",
     "status": "completed"
    },
    "tags": []
   },
   "outputs": [],
   "source": [
    "# Fazendo as predições.\n",
    "predictions1 = classifier1.predict(testing_inputs)\n",
    "predictions2 = classifier2.predict(testing_inputs)\n",
    "predictions3 = classifier3.predict(testing_inputs)"
   ]
  },
  {
   "cell_type": "code",
   "execution_count": 110,
   "id": "de08db8a",
   "metadata": {
    "execution": {
     "iopub.execute_input": "2021-11-11T18:03:32.947117Z",
     "iopub.status.busy": "2021-11-11T18:03:32.945168Z",
     "iopub.status.idle": "2021-11-11T18:03:32.948099Z",
     "shell.execute_reply": "2021-11-11T18:03:32.946197Z",
     "shell.execute_reply.started": "2021-11-09T12:03:56.985565Z"
    },
    "papermill": {
     "duration": 0.040939,
     "end_time": "2021-11-11T18:03:32.948310",
     "exception": false,
     "start_time": "2021-11-11T18:03:32.907371",
     "status": "completed"
    },
    "tags": []
   },
   "outputs": [],
   "source": [
    "# Calculando a acurácia para o modelo de detecção de phishing.\n",
    "accuracy1 = 100.0 * accuracy_score(testing_outputs, predictions1)\n",
    "accuracy2 = 100.0 * accuracy_score(testing_outputs, predictions2)\n",
    "accuracy3 = 100.0 * accuracy_score(testing_outputs, predictions3)"
   ]
  },
  {
   "cell_type": "code",
   "execution_count": 111,
   "id": "c1d6ed7a",
   "metadata": {
    "execution": {
     "iopub.execute_input": "2021-11-11T18:03:33.003635Z",
     "iopub.status.busy": "2021-11-11T18:03:33.002940Z",
     "iopub.status.idle": "2021-11-11T18:03:33.005601Z",
     "shell.execute_reply": "2021-11-11T18:03:33.006119Z",
     "shell.execute_reply.started": "2021-11-09T12:03:56.998656Z"
    },
    "papermill": {
     "duration": 0.030958,
     "end_time": "2021-11-11T18:03:33.006292",
     "exception": false,
     "start_time": "2021-11-11T18:03:32.975334",
     "status": "completed"
    },
    "tags": []
   },
   "outputs": [
    {
     "name": "stdout",
     "output_type": "stream",
     "text": [
      "A acurácia para o classificador de regressão logística sobre os dados de teste é: 93.03482587064677\n",
      "A acurácia para o classificador de árvore de decisão sobre os dados de teste é: 96.65309814563547\n",
      "A acurácia para o classificador de floresta aleatória sobre os dados de teste é: 97.64812302125735\n"
     ]
    }
   ],
   "source": [
    "# Imprimindo a acurácia para o modelo de detecção de phishing.\n",
    "print (\"A acurácia para o classificador de regressão logística sobre os dados de teste é: \" +str(accuracy1))\n",
    "print (\"A acurácia para o classificador de árvore de decisão sobre os dados de teste é: \" +str(accuracy2))\n",
    "print (\"A acurácia para o classificador de floresta aleatória sobre os dados de teste é: \" +str(accuracy3))"
   ]
  }
 ],
 "metadata": {
  "kernelspec": {
   "display_name": "Python 3",
   "language": "python",
   "name": "python3"
  },
  "language_info": {
   "codemirror_mode": {
    "name": "ipython",
    "version": 3
   },
   "file_extension": ".py",
   "mimetype": "text/x-python",
   "name": "python",
   "nbconvert_exporter": "python",
   "pygments_lexer": "ipython3",
   "version": "3.10.12"
  },
  "papermill": {
   "default_parameters": {},
   "duration": 12.751789,
   "end_time": "2021-11-11T18:03:33.731260",
   "environment_variables": {},
   "exception": null,
   "input_path": "__notebook__.ipynb",
   "output_path": "__notebook__.ipynb",
   "parameters": {},
   "start_time": "2021-11-11T18:03:20.979471",
   "version": "2.3.3"
  }
 },
 "nbformat": 4,
 "nbformat_minor": 5
}
